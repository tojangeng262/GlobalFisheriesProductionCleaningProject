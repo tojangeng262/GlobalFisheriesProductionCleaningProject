{
 "cells": [
  {
   "cell_type": "markdown",
   "id": "62cd16e0-2de7-4b56-be02-bf421070cebb",
   "metadata": {},
   "source": [
    "# Fisheries Data Cleaning"
   ]
  },
  {
   "cell_type": "markdown",
   "id": "c208e455-fca6-4099-b858-bed61766b754",
   "metadata": {},
   "source": [
    "In this notebook, i will share the code and method i use to load, check and clean the data set. the original data set i get from querying in [FAO data](https://www.fao.org/fishery/statistics-query/en/global_production/global_production_quantity). after that i get the data in csv and using it here. The main thing that i get is country, the amount of production, the species of fish, and continent as large scale comparison. "
   ]
  },
  {
   "cell_type": "markdown",
   "id": "5dc4e13c-819f-4f46-b846-ff7d00bb0c85",
   "metadata": {},
   "source": [
    "## Import the data"
   ]
  },
  {
   "cell_type": "code",
   "execution_count": 4,
   "id": "7704fbc1-a8fb-44a9-861a-4478b5c2bdf8",
   "metadata": {},
   "outputs": [],
   "source": [
    "import pandas as pd\n",
    "\n",
    "path='path/to/the/file/Global_production_quantity_after_query.csv'\n",
    "\n",
    "df=pd.read_csv(path)"
   ]
  },
  {
   "cell_type": "markdown",
   "id": "f2f26394-0e6f-4aee-9ae0-8634c86417fb",
   "metadata": {},
   "source": [
    "### Check the head of dataframe"
   ]
  },
  {
   "cell_type": "code",
   "execution_count": 5,
   "id": "3f2bbcf6-82d7-47f6-a910-69a1122ec407",
   "metadata": {},
   "outputs": [
    {
     "data": {
      "text/html": [
       "<div>\n",
       "<style scoped>\n",
       "    .dataframe tbody tr th:only-of-type {\n",
       "        vertical-align: middle;\n",
       "    }\n",
       "\n",
       "    .dataframe tbody tr th {\n",
       "        vertical-align: top;\n",
       "    }\n",
       "\n",
       "    .dataframe thead th {\n",
       "        text-align: right;\n",
       "    }\n",
       "</style>\n",
       "<table border=\"1\" class=\"dataframe\">\n",
       "  <thead>\n",
       "    <tr style=\"text-align: right;\">\n",
       "      <th></th>\n",
       "      <th>Country Name En</th>\n",
       "      <th>Continent Name En</th>\n",
       "      <th>ASFIS species Name En</th>\n",
       "      <th>Unit Name</th>\n",
       "      <th>2022</th>\n",
       "      <th>2022 Flag</th>\n",
       "      <th>2021</th>\n",
       "      <th>2021 Flag</th>\n",
       "      <th>2020</th>\n",
       "      <th>2020 Flag</th>\n",
       "      <th>...</th>\n",
       "      <th>1954</th>\n",
       "      <th>1954 Flag</th>\n",
       "      <th>1953</th>\n",
       "      <th>1953 Flag</th>\n",
       "      <th>1952</th>\n",
       "      <th>1952 Flag</th>\n",
       "      <th>1951</th>\n",
       "      <th>1951 Flag</th>\n",
       "      <th>1950</th>\n",
       "      <th>1950 Flag</th>\n",
       "    </tr>\n",
       "  </thead>\n",
       "  <tbody>\n",
       "    <tr>\n",
       "      <th>0</th>\n",
       "      <td>Afghanistan</td>\n",
       "      <td>Asia</td>\n",
       "      <td>Cyprinids NEI</td>\n",
       "      <td>Tonnes - live weight</td>\n",
       "      <td>11100.0</td>\n",
       "      <td>E</td>\n",
       "      <td>11067.0</td>\n",
       "      <td>E</td>\n",
       "      <td>9404.0</td>\n",
       "      <td>E</td>\n",
       "      <td>...</td>\n",
       "      <td>NaN</td>\n",
       "      <td>NaN</td>\n",
       "      <td>NaN</td>\n",
       "      <td>NaN</td>\n",
       "      <td>NaN</td>\n",
       "      <td>NaN</td>\n",
       "      <td>NaN</td>\n",
       "      <td>NaN</td>\n",
       "      <td>NaN</td>\n",
       "      <td>NaN</td>\n",
       "    </tr>\n",
       "    <tr>\n",
       "      <th>1</th>\n",
       "      <td>Afghanistan</td>\n",
       "      <td>Asia</td>\n",
       "      <td>Rainbow trout</td>\n",
       "      <td>Tonnes - live weight</td>\n",
       "      <td>50.0</td>\n",
       "      <td>E</td>\n",
       "      <td>40.0</td>\n",
       "      <td>E</td>\n",
       "      <td>40.0</td>\n",
       "      <td>E</td>\n",
       "      <td>...</td>\n",
       "      <td>NaN</td>\n",
       "      <td>NaN</td>\n",
       "      <td>NaN</td>\n",
       "      <td>NaN</td>\n",
       "      <td>NaN</td>\n",
       "      <td>NaN</td>\n",
       "      <td>NaN</td>\n",
       "      <td>NaN</td>\n",
       "      <td>NaN</td>\n",
       "      <td>NaN</td>\n",
       "    </tr>\n",
       "    <tr>\n",
       "      <th>2</th>\n",
       "      <td>Albania</td>\n",
       "      <td>Europe</td>\n",
       "      <td>Bighead carp</td>\n",
       "      <td>Tonnes - live weight</td>\n",
       "      <td>NaN</td>\n",
       "      <td>NaN</td>\n",
       "      <td>NaN</td>\n",
       "      <td>NaN</td>\n",
       "      <td>NaN</td>\n",
       "      <td>NaN</td>\n",
       "      <td>...</td>\n",
       "      <td>NaN</td>\n",
       "      <td>NaN</td>\n",
       "      <td>NaN</td>\n",
       "      <td>NaN</td>\n",
       "      <td>NaN</td>\n",
       "      <td>NaN</td>\n",
       "      <td>NaN</td>\n",
       "      <td>NaN</td>\n",
       "      <td>NaN</td>\n",
       "      <td>NaN</td>\n",
       "    </tr>\n",
       "    <tr>\n",
       "      <th>3</th>\n",
       "      <td>Albania</td>\n",
       "      <td>Europe</td>\n",
       "      <td>Common carp</td>\n",
       "      <td>Tonnes - live weight</td>\n",
       "      <td>NaN</td>\n",
       "      <td>NaN</td>\n",
       "      <td>NaN</td>\n",
       "      <td>NaN</td>\n",
       "      <td>NaN</td>\n",
       "      <td>NaN</td>\n",
       "      <td>...</td>\n",
       "      <td>NaN</td>\n",
       "      <td>NaN</td>\n",
       "      <td>NaN</td>\n",
       "      <td>NaN</td>\n",
       "      <td>NaN</td>\n",
       "      <td>NaN</td>\n",
       "      <td>NaN</td>\n",
       "      <td>NaN</td>\n",
       "      <td>NaN</td>\n",
       "      <td>NaN</td>\n",
       "    </tr>\n",
       "    <tr>\n",
       "      <th>4</th>\n",
       "      <td>Albania</td>\n",
       "      <td>Europe</td>\n",
       "      <td>Crucian carp</td>\n",
       "      <td>Tonnes - live weight</td>\n",
       "      <td>NaN</td>\n",
       "      <td>NaN</td>\n",
       "      <td>NaN</td>\n",
       "      <td>NaN</td>\n",
       "      <td>NaN</td>\n",
       "      <td>NaN</td>\n",
       "      <td>...</td>\n",
       "      <td>NaN</td>\n",
       "      <td>NaN</td>\n",
       "      <td>NaN</td>\n",
       "      <td>NaN</td>\n",
       "      <td>NaN</td>\n",
       "      <td>NaN</td>\n",
       "      <td>NaN</td>\n",
       "      <td>NaN</td>\n",
       "      <td>NaN</td>\n",
       "      <td>NaN</td>\n",
       "    </tr>\n",
       "  </tbody>\n",
       "</table>\n",
       "<p>5 rows × 150 columns</p>\n",
       "</div>"
      ],
      "text/plain": [
       "  Country Name En Continent Name En ASFIS species Name En  \\\n",
       "0     Afghanistan              Asia         Cyprinids NEI   \n",
       "1     Afghanistan              Asia         Rainbow trout   \n",
       "2         Albania            Europe          Bighead carp   \n",
       "3         Albania            Europe           Common carp   \n",
       "4         Albania            Europe          Crucian carp   \n",
       "\n",
       "              Unit Name     2022 2022 Flag     2021 2021 Flag    2020  \\\n",
       "0  Tonnes - live weight  11100.0         E  11067.0         E  9404.0   \n",
       "1  Tonnes - live weight     50.0         E     40.0         E    40.0   \n",
       "2  Tonnes - live weight      NaN       NaN      NaN       NaN     NaN   \n",
       "3  Tonnes - live weight      NaN       NaN      NaN       NaN     NaN   \n",
       "4  Tonnes - live weight      NaN       NaN      NaN       NaN     NaN   \n",
       "\n",
       "  2020 Flag  ...  1954 1954 Flag  1953 1953 Flag  1952 1952 Flag  1951  \\\n",
       "0         E  ...   NaN       NaN   NaN       NaN   NaN       NaN   NaN   \n",
       "1         E  ...   NaN       NaN   NaN       NaN   NaN       NaN   NaN   \n",
       "2       NaN  ...   NaN       NaN   NaN       NaN   NaN       NaN   NaN   \n",
       "3       NaN  ...   NaN       NaN   NaN       NaN   NaN       NaN   NaN   \n",
       "4       NaN  ...   NaN       NaN   NaN       NaN   NaN       NaN   NaN   \n",
       "\n",
       "  1951 Flag  1950 1950 Flag  \n",
       "0       NaN   NaN       NaN  \n",
       "1       NaN   NaN       NaN  \n",
       "2       NaN   NaN       NaN  \n",
       "3       NaN   NaN       NaN  \n",
       "4       NaN   NaN       NaN  \n",
       "\n",
       "[5 rows x 150 columns]"
      ]
     },
     "execution_count": 5,
     "metadata": {},
     "output_type": "execute_result"
    }
   ],
   "source": [
    "df.head()"
   ]
  },
  {
   "cell_type": "markdown",
   "id": "c9f63223-83dd-423a-a117-07fa6606de3b",
   "metadata": {},
   "source": [
    "Since the data is on the wide shape, the first thing i do is melt it with df.melt(), so i can get fewer columns to work with"
   ]
  },
  {
   "cell_type": "markdown",
   "id": "9e487a5f-6ca8-4bb5-8767-831513875cbc",
   "metadata": {},
   "source": [
    "### Melt the data"
   ]
  },
  {
   "cell_type": "code",
   "execution_count": 7,
   "id": "aff414f9-09aa-44e7-bc0a-1d5256dcdd70",
   "metadata": {},
   "outputs": [],
   "source": [
    "id_vars = ['Country Name En', 'Continent Name En', 'ASFIS species Name En', 'Unit Name']\n",
    "value_vars = [col for col in df.columns if col.isdigit()]\n",
    "\n",
    "df_long = df.melt(\n",
    "    id_vars=id_vars,\n",
    "    value_vars=value_vars,\n",
    "    var_name='Year',\n",
    "    value_name='Production'\n",
    ")"
   ]
  },
  {
   "cell_type": "markdown",
   "id": "28775ba9-0585-4cf8-883e-13a21b05236c",
   "metadata": {},
   "source": [
    "#### Check the head of new df"
   ]
  },
  {
   "cell_type": "code",
   "execution_count": 8,
   "id": "30a2cf6b-5b91-451b-9063-9144004b23c2",
   "metadata": {},
   "outputs": [
    {
     "data": {
      "text/html": [
       "<div>\n",
       "<style scoped>\n",
       "    .dataframe tbody tr th:only-of-type {\n",
       "        vertical-align: middle;\n",
       "    }\n",
       "\n",
       "    .dataframe tbody tr th {\n",
       "        vertical-align: top;\n",
       "    }\n",
       "\n",
       "    .dataframe thead th {\n",
       "        text-align: right;\n",
       "    }\n",
       "</style>\n",
       "<table border=\"1\" class=\"dataframe\">\n",
       "  <thead>\n",
       "    <tr style=\"text-align: right;\">\n",
       "      <th></th>\n",
       "      <th>Country Name En</th>\n",
       "      <th>Continent Name En</th>\n",
       "      <th>ASFIS species Name En</th>\n",
       "      <th>Unit Name</th>\n",
       "      <th>Year</th>\n",
       "      <th>Production</th>\n",
       "    </tr>\n",
       "  </thead>\n",
       "  <tbody>\n",
       "    <tr>\n",
       "      <th>0</th>\n",
       "      <td>Afghanistan</td>\n",
       "      <td>Asia</td>\n",
       "      <td>Cyprinids NEI</td>\n",
       "      <td>Tonnes - live weight</td>\n",
       "      <td>2022</td>\n",
       "      <td>11100.0</td>\n",
       "    </tr>\n",
       "    <tr>\n",
       "      <th>1</th>\n",
       "      <td>Afghanistan</td>\n",
       "      <td>Asia</td>\n",
       "      <td>Rainbow trout</td>\n",
       "      <td>Tonnes - live weight</td>\n",
       "      <td>2022</td>\n",
       "      <td>50.0</td>\n",
       "    </tr>\n",
       "    <tr>\n",
       "      <th>2</th>\n",
       "      <td>Albania</td>\n",
       "      <td>Europe</td>\n",
       "      <td>Bighead carp</td>\n",
       "      <td>Tonnes - live weight</td>\n",
       "      <td>2022</td>\n",
       "      <td>NaN</td>\n",
       "    </tr>\n",
       "    <tr>\n",
       "      <th>3</th>\n",
       "      <td>Albania</td>\n",
       "      <td>Europe</td>\n",
       "      <td>Common carp</td>\n",
       "      <td>Tonnes - live weight</td>\n",
       "      <td>2022</td>\n",
       "      <td>NaN</td>\n",
       "    </tr>\n",
       "    <tr>\n",
       "      <th>4</th>\n",
       "      <td>Albania</td>\n",
       "      <td>Europe</td>\n",
       "      <td>Crucian carp</td>\n",
       "      <td>Tonnes - live weight</td>\n",
       "      <td>2022</td>\n",
       "      <td>NaN</td>\n",
       "    </tr>\n",
       "  </tbody>\n",
       "</table>\n",
       "</div>"
      ],
      "text/plain": [
       "  Country Name En Continent Name En ASFIS species Name En  \\\n",
       "0     Afghanistan              Asia         Cyprinids NEI   \n",
       "1     Afghanistan              Asia         Rainbow trout   \n",
       "2         Albania            Europe          Bighead carp   \n",
       "3         Albania            Europe           Common carp   \n",
       "4         Albania            Europe          Crucian carp   \n",
       "\n",
       "              Unit Name  Year  Production  \n",
       "0  Tonnes - live weight  2022     11100.0  \n",
       "1  Tonnes - live weight  2022        50.0  \n",
       "2  Tonnes - live weight  2022         NaN  \n",
       "3  Tonnes - live weight  2022         NaN  \n",
       "4  Tonnes - live weight  2022         NaN  "
      ]
     },
     "execution_count": 8,
     "metadata": {},
     "output_type": "execute_result"
    }
   ],
   "source": [
    "df_long.head()"
   ]
  },
  {
   "cell_type": "markdown",
   "id": "66422995-99ed-4702-aae5-68911732d65d",
   "metadata": {},
   "source": [
    "### Clean the year and production data type"
   ]
  },
  {
   "cell_type": "code",
   "execution_count": 21,
   "id": "5bffe63f-4733-4ce1-84a8-17982d795daa",
   "metadata": {},
   "outputs": [],
   "source": [
    "df_long['Year'] = df_long['Year'].astype(int)\n",
    "df_long['Production'] = pd.to_numeric(df_long['Production'], errors='coerce')"
   ]
  },
  {
   "cell_type": "markdown",
   "id": "81ff42d2-176a-4dc0-9efd-d93ae5a8b861",
   "metadata": {},
   "source": [
    "### Check the empty value"
   ]
  },
  {
   "cell_type": "code",
   "execution_count": 9,
   "id": "ed1dee47-4e2a-42cc-8bb6-f550b756de1d",
   "metadata": {},
   "outputs": [
    {
     "data": {
      "text/plain": [
       "Country Name En               0\n",
       "Continent Name En          1387\n",
       "ASFIS species Name En         0\n",
       "Unit Name                     0\n",
       "Year                          0\n",
       "Production               154668\n",
       "dtype: int64"
      ]
     },
     "execution_count": 9,
     "metadata": {},
     "output_type": "execute_result"
    }
   ],
   "source": [
    "df_long.isna().sum()"
   ]
  },
  {
   "cell_type": "markdown",
   "id": "acb50295-7315-4e94-a9c9-a690df521344",
   "metadata": {},
   "source": [
    "the production have a large of number that have nothing in it, so i decided to drop it down"
   ]
  },
  {
   "cell_type": "markdown",
   "id": "525a851e-24d5-4714-8c0f-941ff736c9eb",
   "metadata": {},
   "source": [
    "#### Drop the empty row in production column "
   ]
  },
  {
   "cell_type": "code",
   "execution_count": 10,
   "id": "7ca6685f-68ed-4088-8470-e13923f25f4a",
   "metadata": {},
   "outputs": [],
   "source": [
    "df_long = df_long.dropna(subset=['Production'])"
   ]
  },
  {
   "cell_type": "markdown",
   "id": "b5f37d17-406f-4e5e-930c-54708b77e5a2",
   "metadata": {},
   "source": [
    "#### Check again the new df"
   ]
  },
  {
   "cell_type": "code",
   "execution_count": 11,
   "id": "866831e2-bf34-4f65-b001-2d5487366cf1",
   "metadata": {},
   "outputs": [
    {
     "data": {
      "text/plain": [
       "Country Name En            0\n",
       "Continent Name En        317\n",
       "ASFIS species Name En      0\n",
       "Unit Name                  0\n",
       "Year                       0\n",
       "Production                 0\n",
       "dtype: int64"
      ]
     },
     "execution_count": 11,
     "metadata": {},
     "output_type": "execute_result"
    }
   ],
   "source": [
    "df_long.isna().sum()"
   ]
  },
  {
   "cell_type": "markdown",
   "id": "d2e2af21-ef0f-4f7d-94ef-da9c5738bf13",
   "metadata": {},
   "source": [
    "I see that there are some empty value in Continent Name En, so i decided to check out what country is it or it is just an error"
   ]
  },
  {
   "cell_type": "markdown",
   "id": "4dff2d1d-f1ee-42a9-8f97-7aa693a5cdef",
   "metadata": {},
   "source": [
    "#### Check the continent name en that have nan value"
   ]
  },
  {
   "cell_type": "code",
   "execution_count": 12,
   "id": "cf1cad99-1853-4df3-a4f9-c19cf300f9a3",
   "metadata": {},
   "outputs": [
    {
     "data": {
      "text/html": [
       "<div>\n",
       "<style scoped>\n",
       "    .dataframe tbody tr th:only-of-type {\n",
       "        vertical-align: middle;\n",
       "    }\n",
       "\n",
       "    .dataframe tbody tr th {\n",
       "        vertical-align: top;\n",
       "    }\n",
       "\n",
       "    .dataframe thead th {\n",
       "        text-align: right;\n",
       "    }\n",
       "</style>\n",
       "<table border=\"1\" class=\"dataframe\">\n",
       "  <thead>\n",
       "    <tr style=\"text-align: right;\">\n",
       "      <th></th>\n",
       "      <th>Country Name En</th>\n",
       "      <th>Continent Name En</th>\n",
       "      <th>ASFIS species Name En</th>\n",
       "      <th>Unit Name</th>\n",
       "      <th>Year</th>\n",
       "      <th>Production</th>\n",
       "    </tr>\n",
       "  </thead>\n",
       "  <tbody>\n",
       "    <tr>\n",
       "      <th>108867</th>\n",
       "      <td>Un. Sov. Soc. Rep.</td>\n",
       "      <td>NaN</td>\n",
       "      <td>Bighead carp</td>\n",
       "      <td>Tonnes - live weight</td>\n",
       "      <td>1991</td>\n",
       "      <td>5381.0</td>\n",
       "    </tr>\n",
       "    <tr>\n",
       "      <th>108868</th>\n",
       "      <td>Un. Sov. Soc. Rep.</td>\n",
       "      <td>NaN</td>\n",
       "      <td>Brown seaweeds</td>\n",
       "      <td>Tonnes - live weight</td>\n",
       "      <td>1991</td>\n",
       "      <td>9742.0</td>\n",
       "    </tr>\n",
       "    <tr>\n",
       "      <th>108869</th>\n",
       "      <td>Un. Sov. Soc. Rep.</td>\n",
       "      <td>NaN</td>\n",
       "      <td>Chum(=Keta=Dog) salmon</td>\n",
       "      <td>Tonnes - live weight</td>\n",
       "      <td>1991</td>\n",
       "      <td>0.0</td>\n",
       "    </tr>\n",
       "    <tr>\n",
       "      <th>108870</th>\n",
       "      <td>Un. Sov. Soc. Rep.</td>\n",
       "      <td>NaN</td>\n",
       "      <td>Common carp</td>\n",
       "      <td>Tonnes - live weight</td>\n",
       "      <td>1991</td>\n",
       "      <td>154427.0</td>\n",
       "    </tr>\n",
       "    <tr>\n",
       "      <th>108871</th>\n",
       "      <td>Un. Sov. Soc. Rep.</td>\n",
       "      <td>NaN</td>\n",
       "      <td>Flatfishes NEI</td>\n",
       "      <td>Tonnes - live weight</td>\n",
       "      <td>1991</td>\n",
       "      <td>71.0</td>\n",
       "    </tr>\n",
       "    <tr>\n",
       "      <th>...</th>\n",
       "      <td>...</td>\n",
       "      <td>...</td>\n",
       "      <td>...</td>\n",
       "      <td>...</td>\n",
       "      <td>...</td>\n",
       "      <td>...</td>\n",
       "    </tr>\n",
       "    <tr>\n",
       "      <th>248516</th>\n",
       "      <td>Un. Sov. Soc. Rep.</td>\n",
       "      <td>NaN</td>\n",
       "      <td>Common carp</td>\n",
       "      <td>Tonnes - live weight</td>\n",
       "      <td>1950</td>\n",
       "      <td>51500.0</td>\n",
       "    </tr>\n",
       "    <tr>\n",
       "      <th>248520</th>\n",
       "      <td>Un. Sov. Soc. Rep.</td>\n",
       "      <td>NaN</td>\n",
       "      <td>Mullets NEI</td>\n",
       "      <td>Tonnes - live weight</td>\n",
       "      <td>1950</td>\n",
       "      <td>0.0</td>\n",
       "    </tr>\n",
       "    <tr>\n",
       "      <th>248526</th>\n",
       "      <td>Un. Sov. Soc. Rep.</td>\n",
       "      <td>NaN</td>\n",
       "      <td>Silver carp</td>\n",
       "      <td>Tonnes - live weight</td>\n",
       "      <td>1950</td>\n",
       "      <td>0.0</td>\n",
       "    </tr>\n",
       "    <tr>\n",
       "      <th>248530</th>\n",
       "      <td>Un. Sov. Soc. Rep.</td>\n",
       "      <td>NaN</td>\n",
       "      <td>Whitefishes NEI</td>\n",
       "      <td>Tonnes - live weight</td>\n",
       "      <td>1950</td>\n",
       "      <td>2570.0</td>\n",
       "    </tr>\n",
       "    <tr>\n",
       "      <th>248531</th>\n",
       "      <td>Un. Sov. Soc. Rep.</td>\n",
       "      <td>NaN</td>\n",
       "      <td>Yesso scallop</td>\n",
       "      <td>Tonnes - live weight</td>\n",
       "      <td>1950</td>\n",
       "      <td>0.0</td>\n",
       "    </tr>\n",
       "  </tbody>\n",
       "</table>\n",
       "<p>317 rows × 6 columns</p>\n",
       "</div>"
      ],
      "text/plain": [
       "           Country Name En Continent Name En   ASFIS species Name En  \\\n",
       "108867  Un. Sov. Soc. Rep.               NaN            Bighead carp   \n",
       "108868  Un. Sov. Soc. Rep.               NaN          Brown seaweeds   \n",
       "108869  Un. Sov. Soc. Rep.               NaN  Chum(=Keta=Dog) salmon   \n",
       "108870  Un. Sov. Soc. Rep.               NaN             Common carp   \n",
       "108871  Un. Sov. Soc. Rep.               NaN          Flatfishes NEI   \n",
       "...                    ...               ...                     ...   \n",
       "248516  Un. Sov. Soc. Rep.               NaN             Common carp   \n",
       "248520  Un. Sov. Soc. Rep.               NaN             Mullets NEI   \n",
       "248526  Un. Sov. Soc. Rep.               NaN             Silver carp   \n",
       "248530  Un. Sov. Soc. Rep.               NaN         Whitefishes NEI   \n",
       "248531  Un. Sov. Soc. Rep.               NaN           Yesso scallop   \n",
       "\n",
       "                   Unit Name  Year  Production  \n",
       "108867  Tonnes - live weight  1991      5381.0  \n",
       "108868  Tonnes - live weight  1991      9742.0  \n",
       "108869  Tonnes - live weight  1991         0.0  \n",
       "108870  Tonnes - live weight  1991    154427.0  \n",
       "108871  Tonnes - live weight  1991        71.0  \n",
       "...                      ...   ...         ...  \n",
       "248516  Tonnes - live weight  1950     51500.0  \n",
       "248520  Tonnes - live weight  1950         0.0  \n",
       "248526  Tonnes - live weight  1950         0.0  \n",
       "248530  Tonnes - live weight  1950      2570.0  \n",
       "248531  Tonnes - live weight  1950         0.0  \n",
       "\n",
       "[317 rows x 6 columns]"
      ]
     },
     "execution_count": 12,
     "metadata": {},
     "output_type": "execute_result"
    }
   ],
   "source": [
    "df_long[df_long['Continent Name En'].isna()]"
   ]
  },
  {
   "cell_type": "markdown",
   "id": "6c9f2314-7eca-4691-9f62-2251ce4ca771",
   "metadata": {},
   "source": [
    "Since my main intention is to analyze the newer data and not thinking much about the history of the country, so i decided to exclude it from the main dataset and created a new dataset for it, if i needed it later"
   ]
  },
  {
   "cell_type": "markdown",
   "id": "b81bfa54-3f38-44f6-a32e-6d681729dd1d",
   "metadata": {},
   "source": [
    "#### Save USSR rows to a separate DataFrame"
   ]
  },
  {
   "cell_type": "code",
   "execution_count": 13,
   "id": "a9c1065e-6eb9-4890-bf92-1c81240317e0",
   "metadata": {},
   "outputs": [],
   "source": [
    "df_ussr = df_long[df_long['Country Name En'] == 'Un. Sov. Soc. Rep.']"
   ]
  },
  {
   "cell_type": "markdown",
   "id": "86af6922-3923-4d91-aa49-50f04cd8d5d4",
   "metadata": {},
   "source": [
    "#### Exclude USSR from the main DataFrame"
   ]
  },
  {
   "cell_type": "code",
   "execution_count": 14,
   "id": "e28b9e6f-b3a8-43a3-85cb-09ec40880e72",
   "metadata": {},
   "outputs": [],
   "source": [
    "df_long_cleaned = df_long[df_long['Country Name En'] != 'Un. Sov. Soc. Rep.']"
   ]
  },
  {
   "cell_type": "markdown",
   "id": "98e31d33-8d34-4e3c-b4fc-eaf8b1608b2e",
   "metadata": {},
   "source": [
    "I ask chatgpt about what thing i should do to re-check if the data is already clean, so, here what it says.\n",
    "\n",
    "✅ 1. Check Overall Structure\n",
    "\n",
    "\n",
    "```\n",
    "df.info()\n",
    "```\n",
    "\n",
    "Look for:\n",
    "Year should be int64\n",
    "Production should be float64 (or at least numeric)\n",
    "No unexpected object types"
   ]
  },
  {
   "cell_type": "code",
   "execution_count": 22,
   "id": "05dd8da3-c53c-4905-8238-a61aaa2469cb",
   "metadata": {},
   "outputs": [
    {
     "name": "stdout",
     "output_type": "stream",
     "text": [
      "<class 'pandas.core.frame.DataFrame'>\n",
      "Index: 93653 entries, 0 to 248619\n",
      "Data columns (total 6 columns):\n",
      " #   Column                 Non-Null Count  Dtype  \n",
      "---  ------                 --------------  -----  \n",
      " 0   Country Name En        93653 non-null  object \n",
      " 1   Continent Name En      93653 non-null  object \n",
      " 2   ASFIS species Name En  93653 non-null  object \n",
      " 3   Unit Name              93653 non-null  object \n",
      " 4   Year                   93653 non-null  int64  \n",
      " 5   Production             93653 non-null  float64\n",
      "dtypes: float64(1), int64(1), object(4)\n",
      "memory usage: 5.0+ MB\n"
     ]
    }
   ],
   "source": [
    "df_long_cleaned.info()"
   ]
  },
  {
   "cell_type": "markdown",
   "id": "6e507714-2813-4d5f-b1d9-e456794e244a",
   "metadata": {},
   "source": [
    "✅ 2. Preview a Sample\n",
    "\n",
    "```\n",
    "df.sample(5)\n",
    "```\n",
    "\n",
    "Make sure:\n",
    "\n",
    "Each row represents one country-species-unit-year\n",
    "\n",
    "Production values are filled or marked as NaN (not weird strings)"
   ]
  },
  {
   "cell_type": "code",
   "execution_count": 23,
   "id": "15b22ed2-c1dd-4d85-9ebf-b89da1be3cdd",
   "metadata": {},
   "outputs": [
    {
     "data": {
      "text/html": [
       "<div>\n",
       "<style scoped>\n",
       "    .dataframe tbody tr th:only-of-type {\n",
       "        vertical-align: middle;\n",
       "    }\n",
       "\n",
       "    .dataframe tbody tr th {\n",
       "        vertical-align: top;\n",
       "    }\n",
       "\n",
       "    .dataframe thead th {\n",
       "        text-align: right;\n",
       "    }\n",
       "</style>\n",
       "<table border=\"1\" class=\"dataframe\">\n",
       "  <thead>\n",
       "    <tr style=\"text-align: right;\">\n",
       "      <th></th>\n",
       "      <th>Country Name En</th>\n",
       "      <th>Continent Name En</th>\n",
       "      <th>ASFIS species Name En</th>\n",
       "      <th>Unit Name</th>\n",
       "      <th>Year</th>\n",
       "      <th>Production</th>\n",
       "    </tr>\n",
       "  </thead>\n",
       "  <tbody>\n",
       "    <tr>\n",
       "      <th>233383</th>\n",
       "      <td>Malaysia</td>\n",
       "      <td>Asia</td>\n",
       "      <td>Mozambique tilapia</td>\n",
       "      <td>Tonnes - live weight</td>\n",
       "      <td>1954</td>\n",
       "      <td>0.0</td>\n",
       "    </tr>\n",
       "    <tr>\n",
       "      <th>49015</th>\n",
       "      <td>Indonesia</td>\n",
       "      <td>Asia</td>\n",
       "      <td>Giant river prawn</td>\n",
       "      <td>Tonnes - live weight</td>\n",
       "      <td>2008</td>\n",
       "      <td>942.0</td>\n",
       "    </tr>\n",
       "    <tr>\n",
       "      <th>75898</th>\n",
       "      <td>Falkland Islands (Malvinas)</td>\n",
       "      <td>Americas</td>\n",
       "      <td>Blue mussel</td>\n",
       "      <td>Tonnes - live weight</td>\n",
       "      <td>2000</td>\n",
       "      <td>0.0</td>\n",
       "    </tr>\n",
       "    <tr>\n",
       "      <th>111373</th>\n",
       "      <td>Republic of Korea</td>\n",
       "      <td>Asia</td>\n",
       "      <td>Marine fishes NEI</td>\n",
       "      <td>Tonnes - live weight</td>\n",
       "      <td>1990</td>\n",
       "      <td>929.0</td>\n",
       "    </tr>\n",
       "    <tr>\n",
       "      <th>100375</th>\n",
       "      <td>Kenya</td>\n",
       "      <td>Africa</td>\n",
       "      <td>Common carp</td>\n",
       "      <td>Tonnes - live weight</td>\n",
       "      <td>1993</td>\n",
       "      <td>289.0</td>\n",
       "    </tr>\n",
       "  </tbody>\n",
       "</table>\n",
       "</div>"
      ],
      "text/plain": [
       "                    Country Name En Continent Name En ASFIS species Name En  \\\n",
       "233383                     Malaysia              Asia    Mozambique tilapia   \n",
       "49015                     Indonesia              Asia     Giant river prawn   \n",
       "75898   Falkland Islands (Malvinas)          Americas           Blue mussel   \n",
       "111373            Republic of Korea              Asia     Marine fishes NEI   \n",
       "100375                        Kenya            Africa           Common carp   \n",
       "\n",
       "                   Unit Name  Year  Production  \n",
       "233383  Tonnes - live weight  1954         0.0  \n",
       "49015   Tonnes - live weight  2008       942.0  \n",
       "75898   Tonnes - live weight  2000         0.0  \n",
       "111373  Tonnes - live weight  1990       929.0  \n",
       "100375  Tonnes - live weight  1993       289.0  "
      ]
     },
     "execution_count": 23,
     "metadata": {},
     "output_type": "execute_result"
    }
   ],
   "source": [
    "df_long_cleaned.sample(5)"
   ]
  },
  {
   "cell_type": "markdown",
   "id": "b74f87e4-77a7-4e03-8ecc-d0d55951fa4c",
   "metadata": {},
   "source": [
    "✅ 3. Check for Missing Values\n",
    "\n",
    "```\n",
    "df.isna().sum()\n",
    "```\n",
    "\n",
    "This shows which columns still have missing data. A small number of NaNs might be okay, but a bunch could be a red flag."
   ]
  },
  {
   "cell_type": "code",
   "execution_count": 24,
   "id": "c489b92b-8055-4881-a035-6b6174e9a0e0",
   "metadata": {},
   "outputs": [
    {
     "data": {
      "text/plain": [
       "Country Name En          0\n",
       "Continent Name En        0\n",
       "ASFIS species Name En    0\n",
       "Unit Name                0\n",
       "Year                     0\n",
       "Production               0\n",
       "dtype: int64"
      ]
     },
     "execution_count": 24,
     "metadata": {},
     "output_type": "execute_result"
    }
   ],
   "source": [
    "df_long_cleaned.isna().sum()"
   ]
  },
  {
   "cell_type": "markdown",
   "id": "05069d1b-1908-4101-84e9-00458ab1e9d1",
   "metadata": {},
   "source": [
    "✅ 4. Check for Duplicates\n",
    "\n",
    "```\n",
    "df.duplicated().sum()\n",
    "```\n",
    "\n",
    "If this gives you anything above 0, you probably have redundant rows.\n",
    "\n",
    "To inspect:\n",
    "```\n",
    "df[df.duplicated()]"
   ]
  },
  {
   "cell_type": "code",
   "execution_count": 25,
   "id": "4af5dece-67db-4418-849b-ecf66096bf00",
   "metadata": {},
   "outputs": [
    {
     "data": {
      "text/plain": [
       "np.int64(0)"
      ]
     },
     "execution_count": 25,
     "metadata": {},
     "output_type": "execute_result"
    }
   ],
   "source": [
    "df_long_cleaned.duplicated().sum()"
   ]
  },
  {
   "cell_type": "markdown",
   "id": "9733559c-1f41-4599-8cc4-4a3f2d47cc39",
   "metadata": {},
   "source": [
    "✅ 5. Unique Values Sanity Check\n",
    "\n",
    "```\n",
    "df['Columns'].unique()\n",
    "df['Columns'].nunique()\n",
    "```\n",
    "We're checking that if the value is make sense\n"
   ]
  },
  {
   "cell_type": "code",
   "execution_count": 27,
   "id": "b9f496ed-aeba-464e-a90d-5cf2ea7e676d",
   "metadata": {},
   "outputs": [
    {
     "data": {
      "text/plain": [
       "array([2022, 2021, 2020, 2019, 2018, 2017, 2016, 2015, 2014, 2013, 2012,\n",
       "       2011, 2010, 2009, 2008, 2007, 2006, 2005, 2004, 2003, 2002, 2001,\n",
       "       2000, 1999, 1998, 1997, 1996, 1995, 1994, 1993, 1992, 1991, 1990,\n",
       "       1989, 1988, 1987, 1986, 1985, 1984, 1983, 1982, 1981, 1980, 1979,\n",
       "       1978, 1977, 1976, 1975, 1974, 1973, 1972, 1971, 1970, 1969, 1968,\n",
       "       1967, 1966, 1965, 1964, 1963, 1962, 1961, 1960, 1959, 1958, 1957,\n",
       "       1956, 1955, 1954, 1953, 1952, 1951, 1950])"
      ]
     },
     "execution_count": 27,
     "metadata": {},
     "output_type": "execute_result"
    }
   ],
   "source": [
    "df_long_cleaned['Year'].unique()"
   ]
  },
  {
   "cell_type": "code",
   "execution_count": 31,
   "id": "66303c1e-2c53-4b54-a885-79095630b147",
   "metadata": {},
   "outputs": [
    {
     "data": {
      "text/plain": [
       "213"
      ]
     },
     "execution_count": 31,
     "metadata": {},
     "output_type": "execute_result"
    }
   ],
   "source": [
    "df_long_cleaned['Country Name En'].nunique()"
   ]
  },
  {
   "cell_type": "code",
   "execution_count": 32,
   "id": "7651cff6-3453-4b8c-a786-da248593e1ab",
   "metadata": {},
   "outputs": [
    {
     "data": {
      "text/plain": [
       "array(['Afghanistan', 'Albania', 'Algeria', 'American Samoa', 'Angola',\n",
       "       'Antigua and Barbuda', 'Argentina', 'Armenia', 'Aruba',\n",
       "       'Australia', 'Austria', 'Azerbaijan', 'Bahamas', 'Bahrain',\n",
       "       'Bangladesh', 'Barbados', 'Belarus', 'Belgium', 'Belize', 'Benin',\n",
       "       'Bhutan', 'Bolivia (Plurinational State of)',\n",
       "       'Bonaire, Sint Eustatius and Saba', 'Bosnia and Herzegovina',\n",
       "       'Botswana', 'Brazil', 'British Virgin Islands',\n",
       "       'Brunei Darussalam', 'Bulgaria', 'Burkina Faso', 'Burundi',\n",
       "       'Cabo Verde', 'Cambodia', 'Cameroon', 'Canada', 'Cayman Islands',\n",
       "       'Central African Republic', 'Chad', 'Channel Islands', 'Chile',\n",
       "       'China', 'China, Hong Kong SAR', 'Colombia', 'Congo',\n",
       "       'Cook Islands', 'Costa Rica', \"Côte d'Ivoire\", 'Croatia', 'Cuba',\n",
       "       'Cyprus', 'Czechia', \"Democratic People's Republic of Korea\",\n",
       "       'Democratic Republic of the Congo', 'Denmark', 'Dominica',\n",
       "       'Dominican Republic', 'Ecuador', 'Egypt', 'El Salvador',\n",
       "       'Equatorial Guinea', 'Eritrea', 'Estonia', 'Eswatini', 'Ethiopia',\n",
       "       'Falkland Islands (Malvinas)', 'Faroe Islands', 'Fiji', 'Finland',\n",
       "       'France', 'French Guiana', 'French Polynesia', 'Gabon', 'Gambia',\n",
       "       'Georgia', 'Germany', 'Ghana', 'Greece', 'Grenada', 'Guadeloupe',\n",
       "       'Guam', 'Guatemala', 'Guinea', 'Guinea-Bissau', 'Guyana', 'Haiti',\n",
       "       'Honduras', 'Hungary', 'Iceland', 'India', 'Indonesia',\n",
       "       'Iran (Islamic Republic of)', 'Iraq', 'Ireland', 'Israel', 'Italy',\n",
       "       'Jamaica', 'Japan', 'Jordan', 'Kazakhstan', 'Kenya', 'Kiribati',\n",
       "       'Kuwait', 'Kyrgyzstan', \"Lao People's Democratic Republic\",\n",
       "       'Latvia', 'Lebanon', 'Lesotho', 'Liberia', 'Libya', 'Lithuania',\n",
       "       'Madagascar', 'Malawi', 'Malaysia', 'Mali', 'Malta',\n",
       "       'Marshall Islands', 'Martinique', 'Mauritius', 'Mayotte', 'Mexico',\n",
       "       'Micronesia (Federated States of)', 'Montenegro', 'Morocco',\n",
       "       'Mozambique', 'Myanmar', 'Namibia', 'Nauru', 'Nepal',\n",
       "       'Netherlands (Kingdom of the)', 'New Caledonia', 'New Zealand',\n",
       "       'Nicaragua', 'Niger', 'Nigeria', 'Northern Mariana Islands',\n",
       "       'North Macedonia', 'Norway', 'Oman', 'Pakistan', 'Palau',\n",
       "       'Palestine', 'Panama', 'Papua New Guinea', 'Paraguay', 'Peru',\n",
       "       'Philippines', 'Poland', 'Portugal', 'Puerto Rico', 'Qatar',\n",
       "       'Republic of Korea', 'Republic of Moldova', 'Réunion', 'Romania',\n",
       "       'Russian Federation', 'Rwanda', 'Saint Kitts and Nevis',\n",
       "       'Saint Lucia', 'Saint Pierre and Miquelon',\n",
       "       'Saint Vincent and the Grenadines', 'Samoa', 'Saudi Arabia',\n",
       "       'Senegal', 'Serbia', 'Seychelles', 'Sierra Leone', 'Singapore',\n",
       "       'Slovakia', 'Slovenia', 'Solomon Islands', 'South Africa',\n",
       "       'South Sudan', 'Spain', 'Sri Lanka', 'Sudan', 'Suriname', 'Sweden',\n",
       "       'Switzerland', 'Syrian Arab Republic', 'Taiwan Province of China',\n",
       "       'Tajikistan', 'Thailand', 'Timor-Leste', 'Togo', 'Tonga',\n",
       "       'Trinidad and Tobago', 'Tunisia', 'Türkiye', 'Turkmenistan',\n",
       "       'Turks and Caicos Islands', 'Tuvalu', 'Uganda', 'Ukraine',\n",
       "       'United Arab Emirates',\n",
       "       'United Kingdom of Great Britain and Northern Ireland',\n",
       "       'United Republic of Tanzania',\n",
       "       'United Republic of Tanzania, Zanzibar',\n",
       "       'United States of America', 'United States Virgin Islands',\n",
       "       'Uruguay', 'Uzbekistan', 'Vanuatu',\n",
       "       'Venezuela (Bolivarian Republic of)', 'Viet Nam', 'Yemen',\n",
       "       'Zambia', 'Zimbabwe', 'Curaçao', 'Czechoslovakia',\n",
       "       'Netherlands Antilles', 'Serbia and Montenegro', 'Sudan (former)',\n",
       "       'Yugoslavia SFR'], dtype=object)"
      ]
     },
     "execution_count": 32,
     "metadata": {},
     "output_type": "execute_result"
    }
   ],
   "source": [
    "df_long_cleaned['Country Name En'].unique()"
   ]
  },
  {
   "cell_type": "code",
   "execution_count": 29,
   "id": "a37248fd-2b8e-4baf-96fa-77cbc780fb22",
   "metadata": {},
   "outputs": [
    {
     "data": {
      "text/plain": [
       "731"
      ]
     },
     "execution_count": 29,
     "metadata": {},
     "output_type": "execute_result"
    }
   ],
   "source": [
    "df_long_cleaned['ASFIS species Name En'].nunique()"
   ]
  },
  {
   "cell_type": "code",
   "execution_count": 33,
   "id": "5a59d9d1-2a5d-42f6-b028-7a203d887daa",
   "metadata": {},
   "outputs": [
    {
     "data": {
      "text/plain": [
       "array(['Cyprinids NEI', 'Rainbow trout', 'European seabass',\n",
       "       'Gilthead seabream', 'Mediterranean mussel', 'Barbel', 'Bleak',\n",
       "       'Common carp', 'Common sole', 'Crucian carp', 'European eel',\n",
       "       'Freshwater bream', 'Freshwater fishes NEI',\n",
       "       'Largemouth black bass', 'Mullets NEI', 'North African catfish',\n",
       "       'Pacific cupped oyster', 'Penaeus shrimps NEI', 'Pike-perch',\n",
       "       'Roach', 'Tench', 'Tilapias NEI', 'Nile tilapia',\n",
       "       '[Eucheumatopsis isiformis]', '[Brycon orbignyanus]', 'Dorado',\n",
       "       'Grass carp(=White amur)', '[Megaleporinus obtusidens]', 'Pacu',\n",
       "       'Silver, bighead carps NEI', 'Sorubims NEI',\n",
       "       'South American catfish', 'Streaked prochilod', 'Silver carp',\n",
       "       'Sturgeons NEI', 'Trouts NEI', 'Abalones NEI', 'Atlantic salmon',\n",
       "       'Australian mussel', 'Barramundi(=Giant seaperch)',\n",
       "       'Flat and cupped oysters NEI', 'Marine fishes NEI',\n",
       "       'Marine molluscs NEI', 'Murray cod', 'Red claw crayfish',\n",
       "       'Sea trout', 'Silver perch', 'Southern bluefin tuna',\n",
       "       'Yabby crayfish', 'Arctic char', 'Brook trout',\n",
       "       'Euro-American crayfishes NEI', 'Huchen', 'Northern pike',\n",
       "       'Salmonoids NEI', 'Wels(=Som) catfish', 'Whiteleg shrimp',\n",
       "       'Sobaity seabream', 'Asian barbs NEI', 'Bronze featherback',\n",
       "       'Catla', 'Climbing perch', 'Clown knifefish',\n",
       "       'Freshwater prawns, shrimps NEI', 'Giant river prawn',\n",
       "       'Giant tiger prawn', 'Great snakehead', 'Indian white prawn',\n",
       "       'Kuria labeo', '[Labeo bata]', 'Mrigal carp', 'Olive barb',\n",
       "       'Orangefin labeo', 'Orange mud crab', 'Philippine catfish',\n",
       "       'Roho labeo', 'Silver barb', 'Speckled shrimp',\n",
       "       'Spotted snakehead', 'Stinging catfish', 'Striped catfish',\n",
       "       'Striped snakehead', 'Wallago', 'Siberian sturgeon',\n",
       "       'Sterlet sturgeon', 'Elkhorn sea moss', 'Blackchin tilapia',\n",
       "       'Argentinian silverside', 'Black prochilodus', 'Cachama',\n",
       "       'Pirapatinga', 'Tambatinga, hybrid', 'Cobia',\n",
       "       'Three spotted tilapia', 'American bull frog', 'Arapaima',\n",
       "       'Banded astyanax', '[Brycon amazonicus]', '[Brycon spp]',\n",
       "       '[Cichla spp]', 'Cupped oysters NEI', 'Gracilaria seaweeds',\n",
       "       '[Leporinus spp]', \"Lion's paw\", 'River and lake turtles NEI',\n",
       "       'South American rock mussel', 'Tambacu, hybrid', 'Trahira',\n",
       "       'Caribbean spiny lobster', 'Blue shrimp', 'Green mussel',\n",
       "       'Groupers NEI', 'Indo-Pacific swamp crab', 'Jacks, crevalles NEI',\n",
       "       'Milkfish', 'Naked catfishes', 'Pangas catfishes NEI',\n",
       "       'Snappers NEI', 'Snubnose pompano', 'Spotted scat',\n",
       "       'Tropical spiny lobsters NEI', 'Beluga', 'Bighead carp',\n",
       "       'Black carp', 'Channel catfish', 'Danube bleak', 'Danube crayfish',\n",
       "       'Danube sturgeon(=Osetr)', 'European perch', 'Goldfish',\n",
       "       'Mississippi paddlefish', 'Noble crayfish', 'Rudd',\n",
       "       'Spirulina NEI', 'African bonytongue', '[Arthrospira platensis]',\n",
       "       'Mango tilapia', 'Asian swamp eel', 'Blood cockle',\n",
       "       'Eucheuma seaweeds NEI', 'Frogs', \"Hoven's carp\",\n",
       "       'Orange-spotted grouper', 'Snakeskin gourami',\n",
       "       'Torpedo-shaped catfishes NEI', 'Banded jewelfish',\n",
       "       'Parachanna snakeheads NEI', 'Sampa', 'American cupped oyster',\n",
       "       'Blue mussel', 'Butter clam', 'Japanese carpet shell',\n",
       "       'Salmonids NEI', 'Scallops NEI', 'Green turtle', 'Bubu',\n",
       "       'Redbelly tilapia', 'Chilean mussel', 'Chilean oyster',\n",
       "       'Chinook(=Spring=King) salmon', 'Cholga mussel', 'Choro mussel',\n",
       "       'Coho(=Silver) salmon', 'Corvina drum', 'Giant kelp',\n",
       "       '[Haematococcus pluvialis]', 'Japanese abalone', 'Leister',\n",
       "       '[Limnospira maxima]', 'Peruvian calico scallop', 'Red abalone',\n",
       "       'Red cusk-eel', \"Skottsberg's gigartina\", 'Turbot',\n",
       "       'Yellowtail amberjack', 'Amberjacks NEI', 'Amur catfish',\n",
       "       'Aquatic invertebrates NEI', 'Asian clam',\n",
       "       'Blue-Nile tilapia, hybrid', 'Brown seaweeds', '[Carassius spp]',\n",
       "       'Chinese longsnout catfish', 'Chinese mitten crab',\n",
       "       'Chinese mystery snail', 'Chinese pond mussel',\n",
       "       'Chinese softshell turtle', 'Clearhead icefish',\n",
       "       'Constricted tagelus', 'Dark green nori', 'Fleshy prawn',\n",
       "       'Freshwater molluscs NEI', 'Freshwater mussel shells',\n",
       "       'Fusiform sargassum', 'Green mud crab', 'Japanese eel',\n",
       "       'Japanese kelp', 'Japanese seabass', 'Japanese sea cucumber',\n",
       "       'Kuruma prawn', 'Large yellow croaker', 'Lefteye flounders NEI',\n",
       "       'Mandarin fish', 'Marine crabs NEI', 'Nori NEI',\n",
       "       'Obscure pufferfish', 'Oriental river prawn',\n",
       "       'Pearl oyster shells NEI', 'Pen shells NEI', 'Pompano',\n",
       "       'Pond loach', 'Pond smelt', 'Porgies, seabreams NEI',\n",
       "       'Portunus swimcrabs NEI', 'Red drum', 'Red swamp crawfish',\n",
       "       '[Rhopilema esculentum]', 'Righteye flounders NEI',\n",
       "       'Sea mussels NEI', 'Sea snails', 'Sea urchins NEI', 'Snakehead',\n",
       "       'Tiger pufferfish', 'Wakame', 'Wuchang bream', 'Yellow catfish',\n",
       "       'Flathead grey mullet', 'Goldlined seabream',\n",
       "       'Mangrove red snapper', 'Mud carp', \"Russell's snapper\",\n",
       "       '[Brycon melanopterus]', 'Dorada', '[Ichthyoelephas longirostris]',\n",
       "       'Magdalena River prochilodus', '[Pimelodus spp]', 'Prochilods NEI',\n",
       "       '[Prochilodus mariae]', '[Pseudoplatystoma magdaleniatum]',\n",
       "       'Tarpon', 'Gastropods NEI', 'Giant clams NEI', 'Pacific asaphis',\n",
       "       'Rough turban', 'Spotted rose snapper', 'Bagrid catfish',\n",
       "       'Black catfishes NEI', 'Blue tilapia', 'Atlantic bluefin tuna',\n",
       "       'European flat oyster', 'Meagre', 'Mangrove cupped oyster',\n",
       "       'European whitefish', 'Clams, etc. NEI', 'Laver (Nori)',\n",
       "       'Yesso scallop', 'Chars NEI', 'Freshwater siluroids NEI',\n",
       "       'Sea belt', 'Striped bass, hybrid', 'American eel', 'Common snook',\n",
       "       'Gudgeons, sleepers NEI', 'Pacific fat sleeper', 'Bayad',\n",
       "       'River eels NEI', 'Black ark', 'Grand ark', 'Jaguar guapote',\n",
       "       'Mozambique tilapia', 'Babberlocks', 'Tangle',\n",
       "       'Common edible cockle', 'European green frog', 'Roaches NEI',\n",
       "       'Seaweeds NEI', 'Tuberculate abalone', 'Blacklip pearl oyster',\n",
       "       'Orbicular batfish', 'Gasar cupped oyster', 'Greater amberjack',\n",
       "       'Mediterranean shore crab', 'Red porgy', 'Shi drum',\n",
       "       'White seabream', 'Heterobranchus catfish NEI', 'Atipa',\n",
       "       'Lebranche mullet', 'Tarpon snook', 'Whitemouth croaker',\n",
       "       'Hetero-Clarias catfish, hybrid', 'Atlantic halibut',\n",
       "       'Senegalese sole', 'Indian backwater oyster', 'Kelee shad',\n",
       "       'Manipur osteobrama', 'Red seaweeds', 'Asian redtail catfish',\n",
       "       'Banana prawn', 'Butter catfish', 'Clown crab', 'Coarse shrimp',\n",
       "       'Flathead lobster', 'Freshwater crustaceans NEI', 'Giant gourami',\n",
       "       'Glass catfishes', 'Greenback mullet', 'Green sea feather',\n",
       "       'Groupers, seabasses NEI', 'Humpback grouper',\n",
       "       'Indonesian snakehead', 'Jawla paste shrimp', 'Kissing gourami',\n",
       "       'Lake prawn', 'Longfin trevally', 'Marble goby', 'Masked grouper',\n",
       "       'Metapenaeus shrimps NEI', 'Nilem carp', 'Northern velvet shrimp',\n",
       "       'Penguin wing oyster', '[Sargassum spp]', 'Sea cucumbers NEI',\n",
       "       'Semah mahseer', 'Snakeheads(=Murrels) NEI', 'Three spot gourami',\n",
       "       'Whiskered velvet shrimp', 'Brine shrimps NEI', 'Black bullhead',\n",
       "       'Common prawn', 'Grayling', 'Grooved carpet shell', '[Mugil spp]',\n",
       "       'Sharpsnout seabream', 'Whitefishes NEI', 'Ayu sweetfish',\n",
       "       'Bastard halibut', 'Japanese amberjack', 'Japanese jack mackerel',\n",
       "       'Pacific bluefin tuna', 'Red oyas', 'Silver seabream',\n",
       "       'White trevally', 'Peled', 'Spiny eucheuma', 'Isok barb',\n",
       "       'Small scale mud carp', 'Sandfish', 'Redbreast tilapia',\n",
       "       'Tilapia shiranus', 'Barcoo grunter', 'Blacktip grouper',\n",
       "       'Broad geloina', 'Brown-marbled grouper', 'Fourfinger threadfin',\n",
       "       'Giant grouper', 'Golden trevally', 'Hard clams NEI',\n",
       "       '[Hypsibarbus spp]', \"John's snapper\", 'Leopard coralgrouper',\n",
       "       'Pangas catfish', '[Pomadasys spp]', '[Puntioplites bulu]',\n",
       "       'Thai mahseer', 'Tiger-dragon grouper, hybrid', 'Tinfoil barb',\n",
       "       'Sabaki tilapia', 'Elongate giant clam', 'Sixfinger threadfin',\n",
       "       'Hooded oyster', 'Callinectes swimcrabs NEI', 'Catfishes NEI',\n",
       "       'Cichlasoma NEI', 'Cortez oyster', 'Guppy', 'Longnose gar',\n",
       "       'Mojarras, etc. NEI', 'Northern brown shrimp', 'River carpsucker',\n",
       "       'River prawns NEI', 'Snooks(=Robalos) NEI', 'Striped bass',\n",
       "       'Yellowfin tuna', 'Slender wart weed', 'Commercial top',\n",
       "       'Smalleyed squillid mantis shrimp', 'Perlemoen abalone',\n",
       "       'Marine worms', 'Soles NEI', 'Emperor red snapper',\n",
       "       'Golden-lined spinefoot', 'White-spotted spinefoot',\n",
       "       'New Zealand mussel', 'Rainbow abalone', 'Aba', 'Characins NEI',\n",
       "       'Citharinus NEI', 'Grass-eaters NEI', 'Kafue pike', 'Nile perch',\n",
       "       'Reticulate knifefish', 'Upsidedown catfishes', 'Ohrid trout',\n",
       "       'Atlantic cod', 'Finfishes NEI', 'Great Atlantic scallop',\n",
       "       'Marine crustaceans NEI', 'Monsoon river prawn',\n",
       "       'Mottled spinefoot', 'Spinefeet(=Rabbitfishes) NEI',\n",
       "       'Florida pompano', 'Longfin yellowtail', 'Spotted sorubim',\n",
       "       'Amazon sailfin catfish', '[Brycon cephalus]', 'Fine flounder',\n",
       "       'Velvety cichlids', 'Caulerpa seaweeds', 'Slipper cupped oyster',\n",
       "       'Atlantic ditch shrimp', 'Corrugated venus', 'Desert dace',\n",
       "       'Golden carpet shell', 'Green seaweeds', 'Purple dye murex',\n",
       "       '[Solea spp]', 'Yellowfin seabream', 'Aquatic plants NEI',\n",
       "       'Ascidiaceans NEI', 'Bagrid catsfih NEI', 'Blackhead seabream',\n",
       "       '[Capsosiphon fulvescens]', 'Convict grouper',\n",
       "       'Dotted gizzard shad', 'Filefishes, leatherjackets NEI',\n",
       "       'Fragile codium', 'Green laver', 'Half-crenated ark',\n",
       "       'Inflated ark', 'Korean mussel', 'Korean rockfish',\n",
       "       'Masu(=Cherry) salmon', '[Oplegnathus fasciatus]',\n",
       "       'Pacific chub mackerel', 'Pufferfishes NEI', 'Red seabream',\n",
       "       'Sawtooth caridina', 'Scorpionfishes, redfishes NEI', 'Burbot',\n",
       "       'Chum(=Keta=Dog) salmon', 'Red king crab', 'Sockeye(=Red) salmon',\n",
       "       '[Meristotheca senegalense]', 'Blue swimming crab',\n",
       "       'Crimson snapper', 'Giant trevally', 'Malabar grouper',\n",
       "       'Mud spiny lobster', 'Spotted coralgrouper', 'Warty venus',\n",
       "       'Japanese meagre', 'Sea lettuces NEI', 'Caramote prawn',\n",
       "       'Octopuses NEI', 'Queen scallop', 'Spotted seabass',\n",
       "       '[Labeo dussumieri]', 'Greasyback shrimp', 'Japanese hard clam',\n",
       "       'Snappers, jobfishes NEI', 'Warty gracilaria', 'Buffalofishes NEI',\n",
       "       'Africa-bighead catfish, hybrid', 'East Asian bullfrog',\n",
       "       'Gouramis NEI', 'Knifefishes', '[Scylla spp]',\n",
       "       '[Cladosiphon okamuranus]', 'Algerian barb', 'Pink dentex',\n",
       "       'Truncate donax', 'White grouper', 'Queen conch',\n",
       "       'African lungfishes', 'American yellow perch',\n",
       "       'Northern quahog(=Hard clam)', 'Olympia oyster', 'Pacific geoduck',\n",
       "       'Pacific littleneck clam', 'Sand gaper',\n",
       "       'Blunt-toothed African catfish', 'Longfin tilapia',\n",
       "       '[Oreochromis tanganicae]', 'Longrayed whiptail',\n",
       "       'River Plata mussel', 'Brine shrimp', 'Common nase',\n",
       "       'Starry sturgeon', 'Mudfish', 'Areolate grouper',\n",
       "       'Hong Kong catfish', 'Banded grouper', 'Barred-chest grouper',\n",
       "       'Bigeye trevally', 'Blackbanded trevally', 'Black jack',\n",
       "       'Black pomfret', 'Blacksaddled coralgrouper', 'Blackspot sergeant',\n",
       "       'Blacktail snapper', 'Bludger', 'Bluefin trevally',\n",
       "       'Blue sea chub', 'Bluespot mullet', 'Bluespotted trevally',\n",
       "       'Blunt slipper lobster', 'Brassy trevally',\n",
       "       'Deepwater longtail red snapper', 'Deep-water redfish',\n",
       "       'Duskytail grouper', 'Flying barb', 'Foursaddle grouper',\n",
       "       'Giant barb', 'Harry hotlips', 'Hawaiian ladyfish',\n",
       "       'Highfin coralgrouper', 'Highfin grouper', 'Humphead snapper',\n",
       "       'Japanese isinglass', 'Longlegged spiny lobster',\n",
       "       'Longnose trevally', 'Longspine grouper', 'Malabar trevally',\n",
       "       'Minstrel sweetlips', '[Mystus nigriceps]',\n",
       "       '[Neolissochilus soro]', '[Phalacronotus micronemus]',\n",
       "       '[Polymesoda spp]', 'Scalloped spiny lobster',\n",
       "       'Small-scaled terapon', 'Speckled blue grouper',\n",
       "       'Spotty-face anchovy', 'Squaretail coralgrouper',\n",
       "       '[Thynnichthys thynnoides]', 'White-edged lyretail',\n",
       "       'Yellowspotted trevally', 'Twobar seabream', 'Bonefish',\n",
       "       'Carangids NEI', 'Mexican spiny lobster', 'Sea catfishes NEI',\n",
       "       'Mi-iuy (brown) croaker', 'Pink(=Humpback) salmon', 'Silver grunt',\n",
       "       '[Salmo marmoratus]', 'Smooth marron crayfish',\n",
       "       'Adriatic sturgeon', 'Atl.jackknife(=Atl.razor clam)',\n",
       "       'Spinous spider crab', 'Diphos sanguin', 'Natantian decapods NEI',\n",
       "       'Southern white shrimp', 'Bastard halibuts NEI', 'Bluegill',\n",
       "       'Crevalle jack', 'Freshwater drum', 'Northern white shrimp',\n",
       "       'White crappie', '[Cyprinus intha]', 'Vatani rohtee',\n",
       "       'Prussian carp', '[Cichla monoculus]',\n",
       "       '[Chondracanthus chamissoi]', '[Macrocystis integrifolia]',\n",
       "       'Solen razor clams NEI', 'Jack and horse mackerels NEI',\n",
       "       'Fluted giant clam', 'Southern red snapper',\n",
       "       'Diadromous fishes NEI', 'Long-finned charr', 'Golden perch',\n",
       "       'Golden trout', 'Barred sorubim', 'Great Mediterranean scallop',\n",
       "       'Streamer fish', '[Tetraselmis spp]',\n",
       "       'Unicell. chlorella green alga', '[Wallago spp]', 'Squillids NEI',\n",
       "       'Peppery furrow', 'Oriental cyclina', 'Flatfishes NEI',\n",
       "       'Three-spined stickleback', 'Green humphead parrotfish',\n",
       "       'Blackspot seabream', '[Dunaliella salina]', 'Variegated scallop',\n",
       "       'Bluespotted seabream', 'Common dentex', 'Speckled longfin eel',\n",
       "       'Chub', 'European flounder', 'Bear paw clam', 'Crocus giant clam',\n",
       "       'Smooth giant clam', 'Globose clam', 'Horned turban',\n",
       "       'Okhotsk atka mackerel', 'Potato grouper', 'Asp',\n",
       "       'Pod razor shell', 'Redbanded seabream', 'Monkey river prawn',\n",
       "       'Netted prochilod', 'Sevan trout', 'False abalone',\n",
       "       'Octopuses, etc. NEI', 'Peacock cichlid', 'Croakers, drums NEI',\n",
       "       'Green crab', 'Olive green cockle', 'Palaemonid shrimps NEI',\n",
       "       'Redtail prawn', '[Trochita spp]', 'Coarse seagrape',\n",
       "       'Common pandora', 'Marbled spinefoot', 'Malabar blood snapper',\n",
       "       'Orfe(=Ide)', 'Stromboid conchs NEI', 'Percoids NEI', 'Scats',\n",
       "       'Sargo breams NEI', 'Seabasses NEI', 'Pargo breams NEI',\n",
       "       'Banded carpet shell', 'Big-scale sand smelt', 'Brown meagre',\n",
       "       'Common cuttlefish', 'Donax clams', 'Groundfishes NEI',\n",
       "       'Mackerels NEI', 'Pacific salmons NEI', 'Pollack',\n",
       "       'Signal crayfish', 'Striped venus',\n",
       "       'Great blue spotted mudskipper', 'Horse mussels NEI',\n",
       "       'Cockles NEI', 'Flat oysters NEI', 'Pacific horse clam',\n",
       "       'Green terror', 'Atlantic wolffish', 'Haddock', 'Spotted wolffish',\n",
       "       'Green tiger prawn', 'Giant clam', 'Squaretail mullet',\n",
       "       'So-iuy mullet', 'Sciaenas NEI', 'Two-spot red snapper',\n",
       "       'Yellowback seabream', 'Freshwater breams NEI', 'Gobies NEI',\n",
       "       'Silversides(=Sand smelts) NEI', 'White bream', 'Kutum',\n",
       "       'Hong Kong grouper', 'Venus clams NEI', 'Stony sea urchin',\n",
       "       'Gazami crab', 'Spiny lobsters NEI', 'Black grouper',\n",
       "       'Carpet shells NEI', 'Rhinofishes NEI', 'Smooth mactra',\n",
       "       'Daggertooth pike conger', 'Japanese spiny lobster',\n",
       "       'Trumpet emperor', 'Waigieu seaperch',\n",
       "       'Common two-banded seabream', 'Greasy grouper', '[Hoplias spp]',\n",
       "       'Dulse', 'Drums NEI', 'Papuan black snapper', 'Streaked spinefoot',\n",
       "       'Baltic prawn', 'Chubs NEI', 'Atlantic spadefish',\n",
       "       'Brown tiger prawn', 'Eastern king prawn', 'Eastern school shrimp',\n",
       "       'Southern Australia scallop', '[Anostomoides atrianalis]',\n",
       "       '[Brycon hilarii]', 'Suckermouth catfish', 'Blackbelt cichlid',\n",
       "       'Ningu', 'Ripon barbel', 'Vimba bream', 'Sichel',\n",
       "       'Short-finned eel', 'Harpoon seaweeds', 'Akiami paste shrimp',\n",
       "       'White sturgeon', 'Goldsilk seabream', 'Swimming crabs, etc. NEI',\n",
       "       'Freshwater gobies NEI', 'Periwinkles NEI', 'African catfish',\n",
       "       'Pacific calico scallop', '[Pyropia columbina]',\n",
       "       'Anadara clams NEI', 'Black seabass', 'Blue crab',\n",
       "       'Duckbill catfish', 'Yellow-belly bream', 'Rooster venus',\n",
       "       'Gelidium seaweeds', 'Palinurid spiny lobsters NEI', 'Brill',\n",
       "       '[Ichthyoelephas humeralis]', 'Crimson seabream', 'Filefishes NEI',\n",
       "       'Mojarras(=Silver-biddies) NEI', 'Sydney cupped oyster',\n",
       "       'Red bait', 'Bluefish', 'Thinlip grey mullet'], dtype=object)"
      ]
     },
     "execution_count": 33,
     "metadata": {},
     "output_type": "execute_result"
    }
   ],
   "source": [
    "df_long_cleaned['ASFIS species Name En'].unique()"
   ]
  },
  {
   "cell_type": "markdown",
   "id": "35563cb9-7889-4a44-99fa-2776b7e733c9",
   "metadata": {},
   "source": [
    "✅ 6. Confirm Production is Numeric\n",
    "\n",
    "```\n",
    "df['Production'].dtype\n",
    "df['Production'].describe()\n",
    "```\n",
    "\n",
    "If you see very small or very large numbers (e.g., 1e12), double-check if they are real or errors."
   ]
  },
  {
   "cell_type": "code",
   "execution_count": 34,
   "id": "67b4a942-d843-499d-93e1-a9f5b46e8f45",
   "metadata": {},
   "outputs": [
    {
     "data": {
      "text/plain": [
       "dtype('float64')"
      ]
     },
     "execution_count": 34,
     "metadata": {},
     "output_type": "execute_result"
    }
   ],
   "source": [
    "df_long_cleaned['Production'].dtype"
   ]
  },
  {
   "cell_type": "code",
   "execution_count": 35,
   "id": "ffe64585-edd0-4d59-bbb7-7485cf8585f7",
   "metadata": {},
   "outputs": [
    {
     "data": {
      "text/plain": [
       "count    9.365300e+04\n",
       "mean     2.625252e+04\n",
       "std      2.409026e+05\n",
       "min      0.000000e+00\n",
       "25%      0.000000e+00\n",
       "50%      4.213900e+01\n",
       "75%      1.200000e+03\n",
       "max      1.177848e+07\n",
       "Name: Production, dtype: float64"
      ]
     },
     "execution_count": 35,
     "metadata": {},
     "output_type": "execute_result"
    }
   ],
   "source": [
    "df_long_cleaned['Production'].describe()"
   ]
  },
  {
   "cell_type": "markdown",
   "id": "2e049d5e-3a99-497f-87ce-1a5a327afe10",
   "metadata": {},
   "source": [
    "With all of that alreadt checked out, i think the data is already clean and is ready to export as new csv for analyze later"
   ]
  },
  {
   "cell_type": "markdown",
   "id": "f20a9cfe-dfb5-4567-a2b7-50d58a69fba0",
   "metadata": {},
   "source": [
    "## Export the csv"
   ]
  },
  {
   "cell_type": "code",
   "execution_count": null,
   "id": "6ab12e57-b83f-4054-b345-1e5ff8695d3d",
   "metadata": {},
   "outputs": [],
   "source": [
    "df_long_cleaned.to_csv('the/path/of/the/file/df_cleaned.csv', index=False)"
   ]
  },
  {
   "cell_type": "code",
   "execution_count": null,
   "id": "96928523-5e5d-44ca-a166-706f8a5ca029",
   "metadata": {},
   "outputs": [],
   "source": [
    "df_ussr.to_csv('the/path/of/the/file/ussr_data.csv', index=False)"
   ]
  },
  {
   "cell_type": "markdown",
   "id": "50fbf693-6c29-4fdf-9f7e-215025c8aec4",
   "metadata": {},
   "source": [
    "i think thats all for the cleaning, and i will continue for the next step\n",
    "\n",
    "\n",
    "## 🤝 Credits\n",
    "\n",
    "Created by tojangeng262, a fisheries graduate transitioning into data analytics.\n",
    "\n",
    "This project is part of a professional data portfolio aimed at showcasing real-world data wrangling skills using Python, pandas, and GitHub best practices.\n"
   ]
  },
  {
   "cell_type": "code",
   "execution_count": null,
   "id": "e42b81c3-b6c3-4d12-adbf-01cf69533982",
   "metadata": {},
   "outputs": [],
   "source": []
  }
 ],
 "metadata": {
  "kernelspec": {
   "display_name": "Python 3 (ipykernel)",
   "language": "python",
   "name": "python3"
  },
  "language_info": {
   "codemirror_mode": {
    "name": "ipython",
    "version": 3
   },
   "file_extension": ".py",
   "mimetype": "text/x-python",
   "name": "python",
   "nbconvert_exporter": "python",
   "pygments_lexer": "ipython3",
   "version": "3.13.0"
  }
 },
 "nbformat": 4,
 "nbformat_minor": 5
}
